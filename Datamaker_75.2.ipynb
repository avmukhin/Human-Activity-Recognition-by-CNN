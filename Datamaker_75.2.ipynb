{
 "cells": [
  {
   "cell_type": "markdown",
   "metadata": {},
   "source": [
    "### Import libs and data from .mat format"
   ]
  },
  {
   "cell_type": "code",
   "execution_count": 3,
   "metadata": {},
   "outputs": [],
   "source": [
    "import scipy.io as spio\n",
    "import numpy as np\n",
    "import matplotlib.pyplot as plt\n",
    "%matplotlib inline\n",
    "import seaborn\n",
    "import plotly.plotly\n",
    "import plotly.graph_objs as go\n",
    "\n",
    "from plotly import tools\n",
    "from plotly.offline import download_plotlyjs, init_notebook_mode, plot, iplot\n",
    "from ipywidgets import interact, IntSlider"
   ]
  },
  {
   "cell_type": "code",
   "execution_count": 4,
   "metadata": {},
   "outputs": [],
   "source": [
    "\n",
    "import pywt"
   ]
  },
  {
   "cell_type": "code",
   "execution_count": 5,
   "metadata": {},
   "outputs": [],
   "source": [
    "# files \"full_data.mat\" and \"acc_names.mat\" are from UniMiB-SHAR.zip archive\n",
    "mat = spio.loadmat('C:\\\\Users\\\\mukhin.av\\\\Documents\\\\RESEARCH\\\\CNN\\\\data\\\\full_data.mat', squeeze_me=False)"
   ]
  },
  {
   "cell_type": "markdown",
   "metadata": {},
   "source": [
    "### Copy data in numpy array"
   ]
  },
  {
   "cell_type": "code",
   "execution_count": 6,
   "metadata": {},
   "outputs": [],
   "source": [
    "# files \"full_data.mat\" and \"acc_names.mat\" are from UniMiB-SHAR.zip archive\n",
    "mat_data = spio.loadmat('C:\\\\Users\\\\mukhin.av\\\\Documents\\\\RESEARCH\\\\CNN\\\\data\\\\acc_data.mat', squeeze_me=False)\n",
    "mat_labels = spio.loadmat('C:\\\\Users\\\\mukhin.av\\\\Documents\\\\RESEARCH\\\\CNN\\\\data\\\\acc_labels.mat', squeeze_me=False)"
   ]
  },
  {
   "cell_type": "code",
   "execution_count": 7,
   "metadata": {},
   "outputs": [],
   "source": [
    "acc_data = mat_data['acc_data'].reshape((11771, 151, 3))"
   ]
  },
  {
   "cell_type": "code",
   "execution_count": 8,
   "metadata": {},
   "outputs": [],
   "source": [
    "acc_labels = mat_labels['acc_labels']"
   ]
  },
  {
   "cell_type": "code",
   "execution_count": 9,
   "metadata": {},
   "outputs": [
    {
     "data": {
      "text/plain": [
       "array([[ 1,  1,  1],\n",
       "       [ 1,  1,  1],\n",
       "       [ 1,  1,  1],\n",
       "       ...,\n",
       "       [17, 30,  6],\n",
       "       [17, 30,  6],\n",
       "       [17, 30,  6]], dtype=uint8)"
      ]
     },
     "execution_count": 9,
     "metadata": {},
     "output_type": "execute_result"
    }
   ],
   "source": [
    "acc_labels"
   ]
  },
  {
   "cell_type": "code",
   "execution_count": 10,
   "metadata": {},
   "outputs": [
    {
     "data": {
      "text/plain": [
       "[<matplotlib.lines.Line2D at 0x1ec39296eb8>]"
      ]
     },
     "execution_count": 10,
     "metadata": {},
     "output_type": "execute_result"
    },
    {
     "data": {
      "image/png": "[encoded data removed]",
      "text/plain": [
       "<Figure size 432x288 with 1 Axes>"
      ]
     },
     "metadata": {},
     "output_type": "display_data"
    }
   ],
   "source": [
    "plt.plot(acc_data[60,:,0])"
   ]
  },
  {
   "cell_type": "code",
   "execution_count": 11,
   "metadata": {},
   "outputs": [],
   "source": [
    "labels = []\n",
    "for j in range(len(acc_labels)):\n",
    "    labels.append('{}'.format(acc_labels[j,0]))"
   ]
  },
  {
   "cell_type": "code",
   "execution_count": 12,
   "metadata": {},
   "outputs": [],
   "source": [
    "labels = np.array(labels)"
   ]
  },
  {
   "cell_type": "code",
   "execution_count": 13,
   "metadata": {},
   "outputs": [
    {
     "data": {
      "text/plain": [
       "array(['1', '1', '1', ..., '17', '17', '17'], dtype='<U2')"
      ]
     },
     "execution_count": 13,
     "metadata": {},
     "output_type": "execute_result"
    }
   ],
   "source": [
    "labels"
   ]
  },
  {
   "cell_type": "markdown",
   "metadata": {},
   "source": [
    "### Creating dataset"
   ]
  },
  {
   "cell_type": "code",
   "execution_count": 14,
   "metadata": {},
   "outputs": [],
   "source": [
    "widths = np.arange(2, 151 // 6)"
   ]
  },
  {
   "cell_type": "code",
   "execution_count": 15,
   "metadata": {},
   "outputs": [],
   "source": [
    "import scipy.signal"
   ]
  },
  {
   "cell_type": "code",
   "execution_count": 16,
   "metadata": {},
   "outputs": [],
   "source": [
    "import scipy.misc"
   ]
  },
  {
   "cell_type": "code",
   "execution_count": 19,
   "metadata": {},
   "outputs": [],
   "source": [
    "def get_dataset(data, labels):\n",
    "    listing_train = []\n",
    "    listing_test = []\n",
    "    for n in range(len(labels)):\n",
    "        x_prep = data[n,:,0]\n",
    "        x_prep = (x_prep - x_prep.mean()) / x_prep.std()\n",
    "        x, _= pywt.cwt(x_prep, widths, 'mexh')\n",
    "        \n",
    "        y_prep = data[n,:,1]\n",
    "        y_prep = (y_prep - y_prep.mean()) / y_prep.std()\n",
    "        y, _= pywt.cwt(y_prep, widths, 'mexh')\n",
    "        \n",
    "        z_prep = data[n,:,2]\n",
    "        z_prep = (z_prep - z_prep.mean()) / z_prep.std()\n",
    "        z, _= pywt.cwt(z_prep, widths, 'mexh')\n",
    "        \n",
    "        tensor = np.dstack((np.abs(x), np.abs(y), np.abs(z)))\n",
    "        image_name = '{}{}{}{}'.format(labels[n,0], labels[n,1],labels[n,2],n) + '.png'\n",
    "    \n",
    "        scipy.misc.imsave('images\\\\' + image_name, tensor)\n",
    "        if labels[n,1] < 24:\n",
    "            listing_train.append([image_name, int(labels[n,0])])\n",
    "        else:\n",
    "            listing_test.append([image_name, int(labels[n,0])])\n",
    "            \n",
    "    \n",
    "        \n",
    "    return listing_train, listing_test\n",
    "    \n",
    "    #np.savetxt(\"listing_train.csv\", listing_train, delimiter=\",\", fmt='%s')\n",
    "    #np.savetxt(\"listing_test.csv\", listing_test, delimiter=\",\", fmt='%s')"
   ]
  },
  {
   "cell_type": "code",
   "execution_count": 20,
   "metadata": {},
   "outputs": [
    {
     "name": "stderr",
     "output_type": "stream",
     "text": [
      "C:\\Users\\mukhin.av\\AppData\\Local\\Continuum\\anaconda3\\lib\\site-packages\\ipykernel_launcher.py:20: DeprecationWarning:\n",
      "\n",
      "`imsave` is deprecated!\n",
      "`imsave` is deprecated in SciPy 1.0.0, and will be removed in 1.2.0.\n",
      "Use ``imageio.imwrite`` instead.\n",
      "\n"
     ]
    }
   ],
   "source": [
    "listing_train, listing_test = get_dataset(acc_data, acc_labels)"
   ]
  },
  {
   "cell_type": "code",
   "execution_count": 21,
   "metadata": {},
   "outputs": [],
   "source": [
    "from scipy.signal import wiener"
   ]
  },
  {
   "cell_type": "code",
   "execution_count": 22,
   "metadata": {},
   "outputs": [],
   "source": [
    "def get_augmentation(data,labels, listing_train, listing_test):\n",
    "    play = 0 \n",
    "    rol = lambda x: np.roll(x,np.random.randint(low=2, high=20))\n",
    "    while play < 9: \n",
    "        for n in range(len(labels)):\n",
    "            win = np.random.randint(low=2, high=10)\n",
    "            noi = np.random.randint(low=2, high=20)\n",
    "            x_prep = data[n,:,0]\n",
    "            x_prep = wiener(x_prep, mysize=win, noise = noi)\n",
    "            x_prep = rol(x_prep)\n",
    "            x_prep = (x_prep - x_prep.mean()) / x_prep.std()\n",
    "            x, _= pywt.cwt(x_prep, widths, 'mexh')\n",
    "            \n",
    "            y_prep = data[n,:,1]\n",
    "            win = np.random.randint(low=2, high=10)\n",
    "            noi = np.random.randint(low=2, high=20)\n",
    "            y_prep = wiener(y_prep, mysize=win, noise = noi)\n",
    "            y_prep = rol(y_prep)\n",
    "            y_prep = (y_prep - y_prep.mean()) / y_prep.std()\n",
    "            y, _= pywt.cwt(y_prep, widths, 'mexh')\n",
    "            \n",
    "            z_prep = data[n,:,2]\n",
    "            win = np.random.randint(low=2, high=10)\n",
    "            noi = np.random.randint(low=2, high=20)\n",
    "            z_prep = wiener(z_prep, mysize=win, noise = noi)\n",
    "            z_prep = rol(z_prep)\n",
    "            z_prep = (z_prep - z_prep.mean()) / z_prep.std()\n",
    "            z, _= pywt.cwt(z_prep, widths, 'mexh')\n",
    "            \n",
    "            tensor = np.dstack((np.abs(x), np.abs(y), np.abs(z)))\n",
    "            image_name = '{}{}{}{}{}'.format(labels[n,0], labels[n,1],labels[n,2],n,play) + '.png'\n",
    "        \n",
    "            scipy.misc.imsave('images\\\\' + image_name, tensor)\n",
    "            \n",
    "            if labels[n,1] < 24:\n",
    "                listing_train.append([image_name, int(labels[n,0])])\n",
    "            else:\n",
    "                listing_test.append([image_name, int(labels[n,0])])\n",
    "            \n",
    "        play += 1\n",
    "        \n",
    "    return listing_train, listing_test\n",
    "            \n",
    "        \n",
    "            "
   ]
  },
  {
   "cell_type": "code",
   "execution_count": 24,
   "metadata": {},
   "outputs": [
    {
     "name": "stderr",
     "output_type": "stream",
     "text": [
      "C:\\Users\\mukhin.av\\AppData\\Local\\Continuum\\anaconda3\\lib\\site-packages\\ipykernel_launcher.py:33: DeprecationWarning:\n",
      "\n",
      "`imsave` is deprecated!\n",
      "`imsave` is deprecated in SciPy 1.0.0, and will be removed in 1.2.0.\n",
      "Use ``imageio.imwrite`` instead.\n",
      "\n",
      "C:\\Users\\mukhin.av\\AppData\\Local\\Continuum\\anaconda3\\lib\\site-packages\\scipy\\signal\\signaltools.py:940: RuntimeWarning:\n",
      "\n",
      "divide by zero encountered in true_divide\n",
      "\n",
      "C:\\Users\\mukhin.av\\AppData\\Local\\Continuum\\anaconda3\\lib\\site-packages\\scipy\\signal\\signaltools.py:940: RuntimeWarning:\n",
      "\n",
      "invalid value encountered in multiply\n",
      "\n"
     ]
    }
   ],
   "source": [
    "listing_train, listing_test = get_augmentation(acc_data, acc_labels, listing_train, listing_test)"
   ]
  },
  {
   "cell_type": "code",
   "execution_count": null,
   "metadata": {},
   "outputs": [],
   "source": []
  },
  {
   "cell_type": "code",
   "execution_count": 25,
   "metadata": {},
   "outputs": [],
   "source": [
    "np.savetxt(\"listing_train.csv\", listing_train, delimiter=\",\", fmt='%s')\n",
    "np.savetxt(\"listing_test.csv\", listing_test, delimiter=\",\", fmt='%s')"
   ]
  },
  {
   "cell_type": "code",
   "execution_count": null,
   "metadata": {},
   "outputs": [],
   "source": []
  }
 ],
 "metadata": {
  "kernelspec": {
   "display_name": "Python 3",
   "language": "python",
   "name": "python3"
  },
  "language_info": {
   "codemirror_mode": {
    "name": "ipython",
    "version": 3
   },
   "file_extension": ".py",
   "mimetype": "text/x-python",
   "name": "python",
   "nbconvert_exporter": "python",
   "pygments_lexer": "ipython3",
   "version": "3.6.5"
  }
 },
 "nbformat": 4,
 "nbformat_minor": 2
}
